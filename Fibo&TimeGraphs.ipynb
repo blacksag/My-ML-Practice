{
 "cells": [
  {
   "cell_type": "code",
   "execution_count": 1,
   "metadata": {},
   "outputs": [],
   "source": [
    "import time as T"
   ]
  },
  {
   "cell_type": "code",
   "execution_count": 6,
   "metadata": {
    "scrolled": true
   },
   "outputs": [
    {
     "name": "stdout",
     "output_type": "stream",
     "text": [
      "1\n",
      "1\n",
      "2\n",
      "3\n",
      "5\n",
      "8\n",
      "13\n",
      "21\n",
      "34\n",
      "55\n",
      "89\n",
      "144\n",
      "233\n",
      "377\n",
      "610\n",
      "987\n",
      "1597\n",
      "2584\n",
      "4181\n",
      "6765\n",
      "10946\n",
      "17711\n",
      "28657\n",
      "46368\n",
      "75025\n",
      "121393\n",
      "196418\n",
      "317811\n",
      "514229\n",
      "832040\n",
      "1346269\n",
      "2178309\n",
      "3524578\n",
      "5702887\n",
      "9227465\n",
      "14930352\n",
      "24157817\n",
      "39088169\n",
      "63245986\n",
      "102334155\n",
      "[0.0030736923217773438, 0.0, 0.0, 0.0, 0.0, 0.0, 0.0, 0.0, 0.0, 0.0, 0.0, 0.0, 0.0, 0.0009808540344238281, 0.0, 0.0, 0.0, 0.0, 0.0, 0.0, 0.0, 0.0, 0.0, 0.0, 0.0, 0.0, 0.0, 0.0, 0.0, 0.0, 0.0, 0.0, 0.001018524169921875, 0.0, 0.0, 0.0, 0.0, 0.0, 0.0, 0.0]\n"
     ]
    }
   ],
   "source": [
    "cache = {} #dictionary of cache for DP\n",
    "def fibo_dp(n): #return the fibonacci of n using DP\n",
    "    if (n < 0) or (type(n)!=int) :\n",
    "        print(\"NOT POSSIBLE!!\")\n",
    "        return -1\n",
    "    elif (n==1) or (n==0) :\n",
    "        return 1\n",
    "    elif n in cache.keys() :\n",
    "        return cache[n]\n",
    "    else :\n",
    "        cache[n]=fibo_dp(n-1) + fibo_dp(n-2)\n",
    "        return cache[n]\n",
    "\n",
    "listCached = []\n",
    "for i in range(40):\n",
    "    x=T.time()\n",
    "    print(fibo_dp(i))\n",
    "    d=T.time()-x\n",
    "    listCached.append(d)\n",
    "    \n",
    "print(listCached)"
   ]
  },
  {
   "cell_type": "code",
   "execution_count": 3,
   "metadata": {},
   "outputs": [
    {
     "name": "stdout",
     "output_type": "stream",
     "text": [
      "1\n",
      "1\n",
      "2\n",
      "3\n",
      "5\n",
      "8\n",
      "13\n",
      "21\n",
      "34\n",
      "55\n",
      "89\n",
      "144\n",
      "233\n",
      "377\n",
      "610\n",
      "987\n",
      "1597\n",
      "2584\n",
      "4181\n",
      "6765\n",
      "10946\n",
      "17711\n",
      "28657\n",
      "46368\n",
      "75025\n",
      "121393\n",
      "196418\n",
      "317811\n",
      "514229\n",
      "832040\n",
      "1346269\n",
      "2178309\n",
      "3524578\n",
      "5702887\n",
      "9227465\n",
      "14930352\n",
      "24157817\n",
      "39088169\n",
      "63245986\n",
      "102334155\n",
      "[0.0, 0.0, 0.0, 0.0, 0.0, 0.0, 0.0, 0.0013756752014160156, 0.0, 0.0, 0.0, 0.0, 0.0, 0.0010008811950683594, 0.0, 0.0, 0.0042803287506103516, 0.003483295440673828, 0.003867626190185547, 0.0, 0.015630483627319336, 0.03133368492126465, 0.03129148483276367, 0.0503542423248291, 0.1101679801940918, 0.14066410064697266, 0.2655172348022461, 0.39521288871765137, 0.7092571258544922, 1.1557481288909912, 1.956437110900879, 2.717564582824707, 4.356007814407349, 7.310277223587036, 11.789312839508057, 17.65607476234436, 31.296377420425415, 49.264596939086914, 81.82321858406067, 125.09356093406677]\n"
     ]
    }
   ],
   "source": [
    "def fibo(n): #return the fibonacci of n\n",
    "    if (n < 0) or (type(n)!=int) :\n",
    "        print(\"NOT POSSIBLE!!\")\n",
    "        return -1\n",
    "    elif (n==1) or (n==0) :\n",
    "        return 1\n",
    "    else :\n",
    "        return fibo(n-1) + fibo(n-2)\n",
    "\n",
    "listSimple = []\n",
    "for i in range(40):\n",
    "    x=T.time()\n",
    "    print(fibo(i))\n",
    "    d=T.time()-x\n",
    "    listSimple.append(d)\n",
    "\n",
    "print(listSimple)"
   ]
  },
  {
   "cell_type": "code",
   "execution_count": 4,
   "metadata": {},
   "outputs": [
    {
     "name": "stdout",
     "output_type": "stream",
     "text": [
      "None\n",
      "1\n",
      "1\n",
      "2\n",
      "3\n",
      "5\n",
      "8\n",
      "13\n",
      "21\n",
      "34\n",
      "55\n",
      "89\n",
      "144\n",
      "233\n",
      "377\n",
      "610\n",
      "987\n",
      "1597\n",
      "2584\n",
      "4181\n",
      "6765\n",
      "10946\n",
      "17711\n",
      "28657\n",
      "46368\n",
      "75025\n",
      "121393\n",
      "196418\n",
      "317811\n",
      "514229\n",
      "832040\n",
      "1346269\n",
      "2178309\n",
      "3524578\n",
      "5702887\n",
      "9227465\n",
      "14930352\n",
      "24157817\n",
      "39088169\n",
      "63245986\n",
      "[0.0009982585906982422, 0.0, 0.0, 0.0, 0.0, 0.0, 0.0, 0.0, 0.0, 0.0, 0.0, 0.0, 0.0, 0.0012183189392089844, 0.0, 0.0, 0.0, 0.0, 0.0, 0.0, 0.0, 0.0, 0.0, 0.0, 0.0, 0.0, 0.0, 0.0, 0.0, 0.0019953250885009766, 0.0, 0.0009965896606445312, 0.0, 0.0, 0.0, 0.0, 0.0, 0.0, 0.0, 0.0]\n"
     ]
    }
   ],
   "source": [
    "from functools import lru_cache\n",
    "@lru_cache(maxsize=100)   \n",
    "def fibo_best(n):\n",
    "    if n<0 or type(n)!=int:\n",
    "        print(\"NOT POSSIBLE!!\")\n",
    "        return -1\n",
    "    elif n==1 or n==2:\n",
    "        return 1\n",
    "    elif n>2:\n",
    "        return fibo_best(n-1) + fibo_best(n-2)\n",
    "\n",
    "list_b=[]\n",
    "\n",
    "for i in range(40):\n",
    "    x=T.time()\n",
    "    print(fibo_best(i))\n",
    "    d=T.time()-x\n",
    "    list_b.append(d)\n",
    "print(list_b)"
   ]
  },
  {
   "cell_type": "code",
   "execution_count": 7,
   "metadata": {},
   "outputs": [
    {
     "data": {
      "image/png": "[encoded data removed]",
      "text/plain": [
       "<Figure size 432x288 with 1 Axes>"
      ]
     },
     "metadata": {},
     "output_type": "display_data"
    }
   ],
   "source": [
    "from matplotlib import pyplot as plt\n",
    "from matplotlib import style\n",
    "\n",
    "style.use(\"ggplot\")\n",
    "plt.plot(listSimple,label='Simple Fibo',linewidth=4)\n",
    "plt.plot(listCached,label='Cached Fibo',linewidth=4)\n",
    "plt.plot(list_b,label='Cached Fibo(inbuilt)',linewidth=4)\n",
    "plt.ylabel('time')\n",
    "plt.xlabel('numbers')\n",
    "plt.legend()\n",
    "plt.grid(True,color='k')\n",
    "plt.show()"
   ]
  },
  {
   "cell_type": "markdown",
   "metadata": {},
   "source": [
    "### THE ABOVE GRAPH HAVE THE OVERLAPPED CACHED FIBO FUNCTIONS LINES \n",
    "### ALSO THE TIME FOR Nth NO. IN SIMPLE FIBO FOR N>35 IS EXPONENTIALLY INCREASING "
   ]
  }
 ],
 "metadata": {
  "kernelspec": {
   "display_name": "Python 3",
   "language": "python",
   "name": "python3"
  },
  "language_info": {
   "codemirror_mode": {
    "name": "ipython",
    "version": 3
   },
   "file_extension": ".py",
   "mimetype": "text/x-python",
   "name": "python",
   "nbconvert_exporter": "python",
   "pygments_lexer": "ipython3",
   "version": "3.6.5"
  }
 },
 "nbformat": 4,
 "nbformat_minor": 2
}
